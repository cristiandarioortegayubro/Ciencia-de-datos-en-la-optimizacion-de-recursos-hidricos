{
  "nbformat": 4,
  "nbformat_minor": 0,
  "metadata": {
    "colab": {
      "name": "Ciencia de datos en la optimizacion de recursos hidricos.ipynb",
      "provenance": [],
      "collapsed_sections": [],
      "include_colab_link": true
    },
    "kernelspec": {
      "name": "python3",
      "display_name": "Python 3"
    },
    "accelerator": "TPU"
  },
  "cells": [
    {
      "cell_type": "markdown",
      "metadata": {
        "id": "view-in-github",
        "colab_type": "text"
      },
      "source": [
        "<a href=\"https://colab.research.google.com/github/cristiandarioortegayubro/Ciencia-de-datos-en-la-optimizacion-de-recursos-hidricos/blob/master/Ciencia_de_datos_en_la_optimizacion_de_recursos_hidricos.ipynb\" target=\"_parent\"><img src=\"https://colab.research.google.com/assets/colab-badge.svg\" alt=\"Open In Colab\"/></a>"
      ]
    },
    {
      "cell_type": "markdown",
      "metadata": {
        "id": "MBye5VC5Xc4u",
        "colab_type": "text"
      },
      "source": [
        "# **Ciencia de datos en la optimización de recursos hídricos**\n"
      ]
    },
    {
      "cell_type": "markdown",
      "metadata": {
        "id": "pmOSvgUBcgi8",
        "colab_type": "text"
      },
      "source": [
        "## **USGS Landsat 8 Surface Reflectance Tier 1**\n",
        "\n",
        "\n",
        "---\n",
        "\n"
      ]
    },
    {
      "cell_type": "markdown",
      "metadata": {
        "id": "OEVYV0ZGdWeS",
        "colab_type": "text"
      },
      "source": [
        "### Librerias y autenticación"
      ]
    },
    {
      "cell_type": "code",
      "metadata": {
        "id": "e_XVc1w3yVG1",
        "colab_type": "code",
        "outputId": "411fb0ee-27f4-4dbf-85d7-5e865c61e616",
        "colab": {
          "base_uri": "https://localhost:8080/",
          "height": 173
        }
      },
      "source": [
        "import ee\n",
        "ee.Authenticate()\n",
        "ee.Initialize()"
      ],
      "execution_count": 1,
      "outputs": [
        {
          "output_type": "stream",
          "text": [
            "To authorize access needed by Earth Engine, open the following URL in a web browser and follow the instructions. If the web browser does not start automatically, please manually browse the URL below.\n",
            "\n",
            "    https://accounts.google.com/o/oauth2/auth?client_id=517222506229-vsmmajv00ul0bs7p89v5m89qs8eb9359.apps.googleusercontent.com&scope=https%3A%2F%2Fwww.googleapis.com%2Fauth%2Fearthengine+https%3A%2F%2Fwww.googleapis.com%2Fauth%2Fdevstorage.full_control&redirect_uri=urn%3Aietf%3Awg%3Aoauth%3A2.0%3Aoob&response_type=code&code_challenge=MvymtE85qIxupQIzFJOLfKtA_xBNtKPELFh36aG7d8Q&code_challenge_method=S256\n",
            "\n",
            "The authorization workflow will generate a code, which you should paste in the box below. \n",
            "Enter verification code: 4/xgFn3IpbQKt5xnfvONfEnDRrJe5974COVeN50vtZFk-BMsn5LSb99xM\n",
            "\n",
            "Successfully saved authorization token.\n"
          ],
          "name": "stdout"
        }
      ]
    },
    {
      "cell_type": "markdown",
      "metadata": {
        "id": "OqnSamTV6SfX",
        "colab_type": "text"
      },
      "source": [
        "*Primer paso, importar Earth Engine (ee) y posteriormente autenticar usuario a traves del link, asociando a una cuenta gmail, generando codigo token el cual debe ser copiado y pegado para lograr autorizacion satisfactoria*"
      ]
    },
    {
      "cell_type": "markdown",
      "metadata": {
        "id": "E0uPtNi5-fae",
        "colab_type": "text"
      },
      "source": [
        "### Mapa interactivo de Mendoza con librería folium"
      ]
    },
    {
      "cell_type": "markdown",
      "metadata": {
        "id": "NsufL_7uljst",
        "colab_type": "text"
      },
      "source": [
        "#### Librerias para el mapa interactivo"
      ]
    },
    {
      "cell_type": "code",
      "metadata": {
        "id": "fVbHjnOhlrU1",
        "colab_type": "code",
        "colab": {}
      },
      "source": [
        "import sys\n",
        "import folium\n",
        "import pandas as pd\n",
        "import webbrowser"
      ],
      "execution_count": 0,
      "outputs": []
    },
    {
      "cell_type": "markdown",
      "metadata": {
        "id": "OPvOJrIyl0JM",
        "colab_type": "text"
      },
      "source": [
        "#### Localización del mapa y definición de bandas satelitales"
      ]
    },
    {
      "cell_type": "code",
      "metadata": {
        "id": "3tFJmCoauFVN",
        "colab_type": "code",
        "colab": {}
      },
      "source": [
        "potrerillos = [-32.9946, -69.1280]\n",
        "punto = [-69.1603, -32.9781]"
      ],
      "execution_count": 0,
      "outputs": []
    },
    {
      "cell_type": "code",
      "metadata": {
        "id": "R7BLPCIEl9-p",
        "colab_type": "code",
        "colab": {}
      },
      "source": [
        "map = folium.Map(location = potrerillos, position='Center', tiles='OpenStreetMap', zoom_start=12.5)\n",
        "bands = ['B2', 'B3', 'B4', 'B5', 'B6', 'B7']"
      ],
      "execution_count": 0,
      "outputs": []
    },
    {
      "cell_type": "markdown",
      "metadata": {
        "id": "Fbf-YaRemLoo",
        "colab_type": "text"
      },
      "source": [
        "#### Conexión con Landsat 8 (Surface Reflectance)"
      ]
    },
    {
      "cell_type": "code",
      "metadata": {
        "id": "Ig1lPMJS_zfY",
        "colab_type": "code",
        "colab": {}
      },
      "source": [
        "IDcollection = 'LANDSAT/LC08/C01/T1_SR'"
      ],
      "execution_count": 0,
      "outputs": []
    },
    {
      "cell_type": "code",
      "metadata": {
        "id": "SFtfzgo7ACVC",
        "colab_type": "code",
        "colab": {}
      },
      "source": [
        "l8sr = ee.ImageCollection(IDcollection)\n",
        "ICFilter = l8sr.filterDate('2018-01-01', '2019-12-28')\n",
        "GP = ee.Geometry.Point(punto)\n",
        "ICFilter = ICFilter.filterBounds(GP)"
      ],
      "execution_count": 0,
      "outputs": []
    },
    {
      "cell_type": "code",
      "metadata": {
        "id": "r6El664oEDTt",
        "colab_type": "code",
        "outputId": "85725133-bea0-40f1-9000-db9b3bb30b02",
        "colab": {
          "base_uri": "https://localhost:8080/",
          "height": 34
        }
      },
      "source": [
        "ICFilter.size().getInfo()"
      ],
      "execution_count": 52,
      "outputs": [
        {
          "output_type": "execute_result",
          "data": {
            "text/plain": [
              "44"
            ]
          },
          "metadata": {
            "tags": []
          },
          "execution_count": 52
        }
      ]
    },
    {
      "cell_type": "markdown",
      "metadata": {
        "id": "uGNeoZdTEdiR",
        "colab_type": "text"
      },
      "source": [
        "Este es el tamaño de la colección filtrada."
      ]
    },
    {
      "cell_type": "markdown",
      "metadata": {
        "id": "PjOPF1KYmfzU",
        "colab_type": "text"
      },
      "source": [
        "#### Aplicando función de mascara de nubes"
      ]
    },
    {
      "cell_type": "code",
      "metadata": {
        "id": "3POSdv-pmkgZ",
        "colab_type": "code",
        "colab": {}
      },
      "source": [
        "def maskL8sr(image):\n",
        "  cloudShadowBitMask = ee.Number(2).pow(3).int()\n",
        "  cloudsBitMask = ee.Number(2).pow(5).int()\n",
        "  qa = image.select('pixel_qa')\n",
        "  mask = qa.bitwiseAnd(cloudShadowBitMask).eq(0).And(\n",
        "    qa.bitwiseAnd(cloudsBitMask).eq(0))\n",
        "  return image.updateMask(mask).select(bands).divide(10000)"
      ],
      "execution_count": 0,
      "outputs": []
    },
    {
      "cell_type": "markdown",
      "metadata": {
        "id": "pahnlCiYmwlE",
        "colab_type": "text"
      },
      "source": [
        "#### Definiendo el conjunto de imágenes años 2018 y 2019\n",
        "\n"
      ]
    },
    {
      "cell_type": "code",
      "metadata": {
        "id": "YIOQalZymyOp",
        "colab_type": "code",
        "colab": {}
      },
      "source": [
        "image = ICFilter.map(maskL8sr).median()"
      ],
      "execution_count": 0,
      "outputs": []
    },
    {
      "cell_type": "markdown",
      "metadata": {
        "id": "dUcZqagayDtE",
        "colab_type": "text"
      },
      "source": [
        "Reducción del conjunto de imágenes, a una sola imagen"
      ]
    },
    {
      "cell_type": "markdown",
      "metadata": {
        "id": "gxMW_pd4GC60",
        "colab_type": "text"
      },
      "source": [
        "#### Índice de agua de diferencia normalizada (NDWI)\n"
      ]
    },
    {
      "cell_type": "code",
      "metadata": {
        "id": "KBpmOmUEJcRQ",
        "colab_type": "code",
        "colab": {}
      },
      "source": [
        "NDWI1 = image.normalizedDifference(['B3','B6'])\n",
        "NDWI2 = image.normalizedDifference(['B5','B6'])"
      ],
      "execution_count": 0,
      "outputs": []
    },
    {
      "cell_type": "markdown",
      "metadata": {
        "id": "jteaVSyXnBgh",
        "colab_type": "text"
      },
      "source": [
        "#### Definiendo los filtros de las capas para el mapa"
      ]
    },
    {
      "cell_type": "code",
      "metadata": {
        "id": "O9yv22CUnCBY",
        "colab_type": "code",
        "outputId": "0e58f60a-31e5-468a-ddcf-0c2d5f1fef2a",
        "colab": {
          "base_uri": "https://localhost:8080/",
          "height": 34
        }
      },
      "source": [
        "mapid = image.getMapId({'bands': ['B4','B3','B2'], 'min': 0, 'max': 0.3, 'ganma': 1.3})\n",
        "folium.TileLayer(\n",
        "    tiles=mapid['tile_fetcher'].url_format,\n",
        "    attr='Map Data &copy; <a href=\"https://earthengine.google.com/\">Google Earth Engine</a>',\n",
        "    overlay=True,\n",
        "    show=False,\n",
        "    name='RGB'\n",
        "  ).add_to(map),\n",
        "mapid = image.getMapId({'bands': ['B3'], 'min': 0, 'max': 0.3, 'ganma': 1.3})\n",
        "folium.TileLayer(\n",
        "    tiles=mapid['tile_fetcher'].url_format,\n",
        "    attr='Map Data &copy; <a href=\"https://earthengine.google.com/\">Google Earth Engine</a>',\n",
        "    overlay=True,\n",
        "    show=False,\n",
        "    name='B3'\n",
        "  ).add_to(map),\n",
        "mapid = image.getMapId({'bands': ['B6'], 'min': 0, 'max': 0.3})\n",
        "folium.TileLayer(\n",
        "    tiles=mapid['tile_fetcher'].url_format,\n",
        "    attr='Map Data &copy; <a href=\"https://earthengine.google.com/\">Google Earth Engine</a>',\n",
        "    overlay=True,\n",
        "    show=False,\n",
        "    name='B6'\n",
        "  ).add_to(map),\n",
        "mapid = NDWI1.getMapId({'min': 0, 'max': 0.3})\n",
        "folium.TileLayer(\n",
        "    tiles=mapid['tile_fetcher'].url_format,\n",
        "    attr='Map Data &copy; <a href=\"https://earthengine.google.com/\">Google Earth Engine</a>',\n",
        "    overlay=True,\n",
        "    show=False,\n",
        "    name='NDWI 1'\n",
        "  ).add_to(map),\n",
        "mapid = NDWI2.getMapId({'min': 0, 'max': 0.3})\n",
        "folium.TileLayer(\n",
        "    tiles=mapid['tile_fetcher'].url_format,\n",
        "    attr='Map Data &copy; <a href=\"https://earthengine.google.com/\">Google Earth Engine</a>',\n",
        "    overlay=True,\n",
        "    show=False,\n",
        "    name='NDWI 2'\n",
        "  ).add_to(map)"
      ],
      "execution_count": 56,
      "outputs": [
        {
          "output_type": "execute_result",
          "data": {
            "text/plain": [
              "<folium.raster_layers.TileLayer at 0x7fd1b9f85cf8>"
            ]
          },
          "metadata": {
            "tags": []
          },
          "execution_count": 56
        }
      ]
    },
    {
      "cell_type": "markdown",
      "metadata": {
        "id": "B1nB5R8SnYgL",
        "colab_type": "text"
      },
      "source": [
        "#### Habilitando el control de capas"
      ]
    },
    {
      "cell_type": "code",
      "metadata": {
        "id": "HXcbFtTrnZlK",
        "colab_type": "code",
        "outputId": "8b6c089f-144b-48a3-f8d3-fcf6f79d5933",
        "colab": {
          "base_uri": "https://localhost:8080/",
          "height": 624
        }
      },
      "source": [
        "map.add_child(folium.LayerControl())"
      ],
      "execution_count": 57,
      "outputs": [
        {
          "output_type": "execute_result",
          "data": {
            "text/html": [
              "<div style=\"width:100%;\"><div style=\"position:relative;width:100%;height:0;padding-bottom:60%;\"><iframe src=\"about:blank\" style=\"position:absolute;width:100%;height:100%;left:0;top:0;border:none !important;\" data-html=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 onload=\"this.contentDocument.open();this.contentDocument.write(atob(this.getAttribute('data-html')));this.contentDocument.close();\" allowfullscreen webkitallowfullscreen mozallowfullscreen></iframe></div></div>"
            ],
            "text/plain": [
              "<folium.folium.Map at 0x7fd1b9f85390>"
            ]
          },
          "metadata": {
            "tags": []
          },
          "execution_count": 57
        }
      ]
    },
    {
      "cell_type": "markdown",
      "metadata": {
        "id": "Oig8W0JQnpgH",
        "colab_type": "text"
      },
      "source": [
        "#### Creando diferentes herramientas"
      ]
    },
    {
      "cell_type": "code",
      "metadata": {
        "id": "UZIQ-gnLnqc7",
        "colab_type": "code",
        "colab": {}
      },
      "source": [
        "tooltip1 = 'Clic punto de medición'"
      ],
      "execution_count": 0,
      "outputs": []
    },
    {
      "cell_type": "markdown",
      "metadata": {
        "id": "_-zeplMEn2y0",
        "colab_type": "text"
      },
      "source": [
        "#### Habilitando popus para ver latitud y longitud"
      ]
    },
    {
      "cell_type": "code",
      "metadata": {
        "id": "oIOKsl66n3SE",
        "colab_type": "code",
        "outputId": "e0b8f16e-e525-4382-d1e6-bf003fdd47ed",
        "colab": {
          "base_uri": "https://localhost:8080/",
          "height": 624
        }
      },
      "source": [
        "map.add_child(folium.LatLngPopup())"
      ],
      "execution_count": 59,
      "outputs": [
        {
          "output_type": "execute_result",
          "data": {
            "text/html": [
              "<div style=\"width:100%;\"><div style=\"position:relative;width:100%;height:0;padding-bottom:60%;\"><iframe src=\"about:blank\" style=\"position:absolute;width:100%;height:100%;left:0;top:0;border:none !important;\" data-html=PCFET0NUWVBFIGh0bWw+CjxoZWFkPiAgICAKICAgIDxtZXRhIGh0dHAtZXF1aXY9ImNvbnRlbnQtdHlwZSIgY29udGVudD0idGV4dC9odG1sOyBjaGFyc2V0PVVURi04IiAvPgogICAgPHNjcmlwdD5MX1BSRUZFUl9DQU5WQVM9ZmFsc2U7IExfTk9fVE9VQ0g9ZmFsc2U7IExfRElTQUJMRV8zRD1mYWxzZTs8L3NjcmlwdD4KICAgIDxzY3JpcHQgc3JjPSJodHRwczovL2Nkbi5qc2RlbGl2ci5uZXQvbnBtL2xlYWZsZXRAMS40LjAvZGlzdC9sZWFmbGV0LmpzIj48L3NjcmlwdD4KICAgIDxzY3JpcHQgc3JjPSJodHRwczovL2NvZGUuanF1ZXJ5LmNvbS9qcXVlcnktMS4xMi40Lm1pbi5qcyI+PC9zY3JpcHQ+CiAgICA8c2NyaXB0IHNyYz0iaHR0cHM6Ly9tYXhjZG4uYm9vdHN0cmFwY2RuLmNvbS9ib290c3RyYXAvMy4yLjAvanMvYm9vdHN0cmFwLm1pbi5qcyI+PC9zY3JpcHQ+CiAgICA8c2NyaXB0IHNyYz0iaHR0cHM6Ly9jZG5qcy5jbG91ZGZsYXJlLmNvbS9hamF4L2xpYnMvTGVhZmxldC5hd2Vzb21lLW1hcmtlcnMvMi4wLjIvbGVhZmxldC5hd2Vzb21lLW1hcmtlcnMuanMiPjwvc2NyaXB0PgogICAgPGxpbmsgcmVsPSJzdHlsZXNoZWV0IiBocmVmPSJodHRwczovL2Nkbi5qc2RlbGl2ci5uZXQvbnBtL2xlYWZsZXRAMS40LjAvZGlzdC9sZWFmbGV0LmNzcyIvPgogICAgPGxpbmsgcmVsPSJzdHlsZXNoZWV0IiBocmVmPSJodHRwczovL21heGNkbi5ib290c3RyYXBjZG4uY29tL2Jvb3RzdHJhcC8zLjIuMC9jc3MvYm9vdHN0cmFwLm1pbi5jc3MiLz4KICAgIDxsaW5rIHJlbD0ic3R5bGVzaGVldCIgaHJlZj0iaHR0cHM6Ly9tYXhjZG4uYm9vdHN0cmFwY2RuLmNvbS9ib290c3RyYXAvMy4yLjAvY3NzL2Jvb3RzdHJhcC10aGVtZS5taW4uY3NzIi8+CiAgICA8bGluayByZWw9InN0eWxlc2hlZXQiIGhyZWY9Imh0dHBzOi8vbWF4Y2RuLmJvb3RzdHJhcGNkbi5jb20vZm9udC1hd2Vzb21lLzQuNi4zL2Nzcy9mb250LWF3ZXNvbWUubWluLmNzcyIvPgogICAgPGxpbmsgcmVsPSJzdHlsZXNoZWV0IiBocmVmPSJodHRwczovL2NkbmpzLmNsb3VkZmxhcmUuY29tL2FqYXgvbGlicy9MZWFmbGV0LmF3ZXNvbWUtbWFya2Vycy8yLjAuMi9sZWFmbGV0LmF3ZXNvbWUtbWFya2Vycy5jc3MiLz4KICAgIDxsaW5rIHJlbD0ic3R5bGVzaGVldCIgaHJlZj0iaHR0cHM6Ly9yYXdjZG4uZ2l0aGFjay5jb20vcHl0aG9uLXZpc3VhbGl6YXRpb24vZm9saXVtL21hc3Rlci9mb2xpdW0vdGVtcGxhdGVzL2xlYWZsZXQuYXdlc29tZS5yb3RhdGUuY3NzIi8+CiAgICA8c3R5bGU+aHRtbCwgYm9keSB7d2lkdGg6IDEwMCU7aGVpZ2h0OiAxMDAlO21hcmdpbjogMDtwYWRkaW5nOiAwO308L3N0eWxlPgogICAgPHN0eWxlPiNtYXAge3Bvc2l0aW9uOmFic29sdXRlO3RvcDowO2JvdHRvbTowO3JpZ2h0OjA7bGVmdDowO308L3N0eWxlPgogICAgCiAgICA8bWV0YSBuYW1lPSJ2aWV3cG9ydCIgY29udGVudD0id2lkdGg9ZGV2aWNlLXdpZHRoLAogICAgICAgIGluaXRpYWwtc2NhbGU9MS4wLCBtYXhpbXVtLXNjYWxlPTEuMCwgdXNlci1zY2FsYWJsZT1ubyIgLz4KICAgIDxzdHlsZT4jbWFwX2NlM2VmMWI4ZWFhMDRkYmQ4MjdhM2MzMDk1MzIyNGMzIHsKICAgICAgICBwb3NpdGlvbjogQ2VudGVyOwogICAgICAgIHdpZHRoOiAxMDAuMCU7CiAgICAgICAgaGVpZ2h0OiAxMDAuMCU7CiAgICAgICAgbGVmdDogMC4wJTsKICAgICAgICB0b3A6IDAuMCU7CiAgICAgICAgfQogICAgPC9zdHlsZT4KPC9oZWFkPgo8Ym9keT4gICAgCiAgICAKICAgIDxkaXYgY2xhc3M9ImZvbGl1bS1tYXAiIGlkPSJtYXBfY2UzZWYxYjhlYWEwNGRiZDgyN2EzYzMwOTUzMjI0YzMiID48L2Rpdj4KPC9ib2R5Pgo8c2NyaXB0PiAgICAKICAgIAogICAgCiAgICAgICAgdmFyIGJvdW5kcyA9IG51bGw7CiAgICAKCiAgICB2YXIgbWFwX2NlM2VmMWI4ZWFhMDRkYmQ4MjdhM2MzMDk1MzIyNGMzID0gTC5tYXAoCiAgICAgICAgJ21hcF9jZTNlZjFiOGVhYTA0ZGJkODI3YTNjMzA5NTMyMjRjMycsIHsKICAgICAgICBjZW50ZXI6IFstMzIuOTk0NiwgLTY5LjEyOF0sCiAgICAgICAgem9vbTogMTIuNSwKICAgICAgICBtYXhCb3VuZHM6IGJvdW5kcywKICAgICAgICBsYXllcnM6IFtdLAogICAgICAgIHdvcmxkQ29weUp1bXA6IGZhbHNlLAogICAgICAgIGNyczogTC5DUlMuRVBTRzM4NTcsCiAgICAgICAgem9vbUNvbnRyb2w6IHRydWUsCiAgICAgICAgfSk7CgoKICAgIAogICAgdmFyIHRpbGVfbGF5ZXJfMWRhYWE1Zjg4YjZhNDBkYmJjY2I4YWI0MjVhYmRkOTcgPSBMLnRpbGVMYXllcigKICAgICAgICAnaHR0cHM6Ly97c30udGlsZS5vcGVuc3RyZWV0bWFwLm9yZy97en0ve3h9L3t5fS5wbmcnLAogICAgICAgIHsKICAgICAgICAiYXR0cmlidXRpb24iOiBudWxsLAogICAgICAgICJkZXRlY3RSZXRpbmEiOiBmYWxzZSwKICAgICAgICAibWF4TmF0aXZlWm9vbSI6IDE4LAogICAgICAgICJtYXhab29tIjogMTgsCiAgICAgICAgIm1pblpvb20iOiAwLAogICAgICAgICJub1dyYXAiOiBmYWxzZSwKICAgICAgICAib3BhY2l0eSI6IDEsCiAgICAgICAgInN1YmRvbWFpbnMiOiAiYWJjIiwKICAgICAgICAidG1zIjogZmFsc2UKfSkuYWRkVG8obWFwX2NlM2VmMWI4ZWFhMDRkYmQ4MjdhM2MzMDk1MzIyNGMzKTsKICAgIHZhciB0aWxlX2xheWVyX2ZmOTdlNDU4ZjExMTRhODg5ZDIyM2MwMjBmNTdmYjUyID0gTC50aWxlTGF5ZXIoCiAgICAgICAgJ2h0dHBzOi8vZWFydGhlbmdpbmUuZ29vZ2xlYXBpcy5jb20vdjFhbHBoYS9wcm9qZWN0cy9lYXJ0aGVuZ2luZS1sZWdhY3kvbWFwcy9hOGFlMGRlYzUzYzhhOTBlZTU0NDg5NzkyYWJiYjRkMi02YjVhYzE1ZWEzNzZhMGI3MWIwNDQ2MTI0MTY2ODVlNi90aWxlcy97en0ve3h9L3t5fScsCiAgICAgICAgewogICAgICAgICJhdHRyaWJ1dGlvbiI6ICJNYXAgRGF0YSAmY29weTsgPGEgaHJlZj1cImh0dHBzOi8vZWFydGhlbmdpbmUuZ29vZ2xlLmNvbS9cIj5Hb29nbGUgRWFydGggRW5naW5lPC9hPiIsCiAgICAgICAgImRldGVjdFJldGluYSI6IGZhbHNlLAogICAgICAgICJtYXhOYXRpdmVab29tIjogMTgsCiAgICAgICAgIm1heFpvb20iOiAxOCwKICAgICAgICAibWluWm9vbSI6IDAsCiAgICAgICAgIm5vV3JhcCI6IGZhbHNlLAogICAgICAgICJvcGFjaXR5IjogMSwKICAgICAgICAic3ViZG9tYWlucyI6ICJhYmMiLAogICAgICAgICJ0bXMiOiBmYWxzZQp9KS5hZGRUbyhtYXBfY2UzZWYxYjhlYWEwNGRiZDgyN2EzYzMwOTUzMjI0YzMpOwogICAgdmFyIHRpbGVfbGF5ZXJfZDZkNjQ1OWYzNDdmNDU5NTkwMjgzOTFlODZhNjI4YjQgPSBMLnRpbGVMYXllcigKICAgICAgICAnaHR0cHM6Ly9lYXJ0aGVuZ2luZS5nb29nbGVhcGlzLmNvbS92MWFscGhhL3Byb2plY3RzL2VhcnRoZW5naW5lLWxlZ2FjeS9tYXBzLzJjZGY5MDUxNzY1N2NiNjdlNmM0ZmM0OTQ0Y2UyMzhkLTQ2YzNhNGFmNmQyZGM3ZWZiZWZkZWZiNGYyZjA2ODYwL3RpbGVzL3t6fS97eH0ve3l9JywKICAgICAgICB7CiAgICAgICAgImF0dHJpYnV0aW9uIjogIk1hcCBEYXRhICZjb3B5OyA8YSBocmVmPVwiaHR0cHM6Ly9lYXJ0aGVuZ2luZS5nb29nbGUuY29tL1wiPkdvb2dsZSBFYXJ0aCBFbmdpbmU8L2E+IiwKICAgICAgICAiZGV0ZWN0UmV0aW5hIjogZmFsc2UsCiAgICAgICAgIm1heE5hdGl2ZVpvb20iOiAxOCwKICAgICAgICAibWF4Wm9vbSI6IDE4LAogICAgICAgICJtaW5ab29tIjogMCwKICAgICAgICAibm9XcmFwIjogZmFsc2UsCiAgICAgICAgIm9wYWNpdHkiOiAxLAogICAgICAgICJzdWJkb21haW5zIjogImFiYyIsCiAgICAgICAgInRtcyI6IGZhbHNlCn0pLmFkZFRvKG1hcF9jZTNlZjFiOGVhYTA0ZGJkODI3YTNjMzA5NTMyMjRjMyk7CiAgICB2YXIgdGlsZV9sYXllcl8wZGZjY2ZmYzk3M2U0ZDE5OGFkOWE3YTZkN2Q4M2YwYiA9IEwudGlsZUxheWVyKAogICAgICAgICdodHRwczovL2VhcnRoZW5naW5lLmdvb2dsZWFwaXMuY29tL3YxYWxwaGEvcHJvamVjdHMvZWFydGhlbmdpbmUtbGVnYWN5L21hcHMvNTRiNTgyMWNhYzNmZWY0NzM0OTFkM2FiMjAyZGYzNDktZjJjMjhhNjJhMGFmOWNiZDIyZjBhYjk0ZmU5NjlmMWMvdGlsZXMve3p9L3t4fS97eX0nLAogICAgICAgIHsKICAgICAgICAiYXR0cmlidXRpb24iOiAiTWFwIERhdGEgJmNvcHk7IDxhIGhyZWY9XCJodHRwczovL2VhcnRoZW5naW5lLmdvb2dsZS5jb20vXCI+R29vZ2xlIEVhcnRoIEVuZ2luZTwvYT4iLAogICAgICAgICJkZXRlY3RSZXRpbmEiOiBmYWxzZSwKICAgICAgICAibWF4TmF0aXZlWm9vbSI6IDE4LAogICAgICAgICJtYXhab29tIjogMTgsCiAgICAgICAgIm1pblpvb20iOiAwLAogICAgICAgICJub1dyYXAiOiBmYWxzZSwKICAgICAgICAib3BhY2l0eSI6IDEsCiAgICAgICAgInN1YmRvbWFpbnMiOiAiYWJjIiwKICAgICAgICAidG1zIjogZmFsc2UKfSkuYWRkVG8obWFwX2NlM2VmMWI4ZWFhMDRkYmQ4MjdhM2MzMDk1MzIyNGMzKTsKICAgIHZhciB0aWxlX2xheWVyXzA0OGQxZmE5YmFhNTQzMGFiNjJmZWNjOGFmNGU4NmViID0gTC50aWxlTGF5ZXIoCiAgICAgICAgJ2h0dHBzOi8vZWFydGhlbmdpbmUuZ29vZ2xlYXBpcy5jb20vdjFhbHBoYS9wcm9qZWN0cy9lYXJ0aGVuZ2luZS1sZWdhY3kvbWFwcy8yMDE0YzIxN2MzMDI2YWZhODdmYTVhMzI1OTRmODliMy0yMjdhYzMxMDY3ZjcyYjU1MTkyOGZlMDY1YzY0NDk0MS90aWxlcy97en0ve3h9L3t5fScsCiAgICAgICAgewogICAgICAgICJhdHRyaWJ1dGlvbiI6ICJNYXAgRGF0YSAmY29weTsgPGEgaHJlZj1cImh0dHBzOi8vZWFydGhlbmdpbmUuZ29vZ2xlLmNvbS9cIj5Hb29nbGUgRWFydGggRW5naW5lPC9hPiIsCiAgICAgICAgImRldGVjdFJldGluYSI6IGZhbHNlLAogICAgICAgICJtYXhOYXRpdmVab29tIjogMTgsCiAgICAgICAgIm1heFpvb20iOiAxOCwKICAgICAgICAibWluWm9vbSI6IDAsCiAgICAgICAgIm5vV3JhcCI6IGZhbHNlLAogICAgICAgICJvcGFjaXR5IjogMSwKICAgICAgICAic3ViZG9tYWlucyI6ICJhYmMiLAogICAgICAgICJ0bXMiOiBmYWxzZQp9KS5hZGRUbyhtYXBfY2UzZWYxYjhlYWEwNGRiZDgyN2EzYzMwOTUzMjI0YzMpOwogICAgdmFyIHRpbGVfbGF5ZXJfMGZlNjM4NTk2MGU0NDM0MGEyMDE3NmZjNjI4Mzg0OWUgPSBMLnRpbGVMYXllcigKICAgICAgICAnaHR0cHM6Ly9lYXJ0aGVuZ2luZS5nb29nbGVhcGlzLmNvbS92MWFscGhhL3Byb2plY3RzL2VhcnRoZW5naW5lLWxlZ2FjeS9tYXBzLzMzODQ1YWEwZmQwMWMzZjc0N2FmZWE2Mzc0MTNkYjI3LWYxNTRiZDE5ZDg0Yzc0NWUwM2ExOWFmMjJjYjdiMzk1L3RpbGVzL3t6fS97eH0ve3l9JywKICAgICAgICB7CiAgICAgICAgImF0dHJpYnV0aW9uIjogIk1hcCBEYXRhICZjb3B5OyA8YSBocmVmPVwiaHR0cHM6Ly9lYXJ0aGVuZ2luZS5nb29nbGUuY29tL1wiPkdvb2dsZSBFYXJ0aCBFbmdpbmU8L2E+IiwKICAgICAgICAiZGV0ZWN0UmV0aW5hIjogZmFsc2UsCiAgICAgICAgIm1heE5hdGl2ZVpvb20iOiAxOCwKICAgICAgICAibWF4Wm9vbSI6IDE4LAogICAgICAgICJtaW5ab29tIjogMCwKICAgICAgICAibm9XcmFwIjogZmFsc2UsCiAgICAgICAgIm9wYWNpdHkiOiAxLAogICAgICAgICJzdWJkb21haW5zIjogImFiYyIsCiAgICAgICAgInRtcyI6IGZhbHNlCn0pLmFkZFRvKG1hcF9jZTNlZjFiOGVhYTA0ZGJkODI3YTNjMzA5NTMyMjRjMyk7CiAgICAKICAgICAgICAgICAgdmFyIGxheWVyX2NvbnRyb2xfZDNlZDkwNjYzNzE4NGE1MWJjZTYxYzZhY2ZmYzlmNWMgPSB7CiAgICAgICAgICAgICAgICBiYXNlX2xheWVycyA6IHsgIm9wZW5zdHJlZXRtYXAiIDogdGlsZV9sYXllcl8xZGFhYTVmODhiNmE0MGRiYmNjYjhhYjQyNWFiZGQ5NywgfSwKICAgICAgICAgICAgICAgIG92ZXJsYXlzIDogeyAiUkdCIiA6IHRpbGVfbGF5ZXJfZmY5N2U0NThmMTExNGE4ODlkMjIzYzAyMGY1N2ZiNTIsIkIzIiA6IHRpbGVfbGF5ZXJfZDZkNjQ1OWYzNDdmNDU5NTkwMjgzOTFlODZhNjI4YjQsIkI2IiA6IHRpbGVfbGF5ZXJfMGRmY2NmZmM5NzNlNGQxOThhZDlhN2E2ZDdkODNmMGIsIk5EV0kgMSIgOiB0aWxlX2xheWVyXzA0OGQxZmE5YmFhNTQzMGFiNjJmZWNjOGFmNGU4NmViLCJORFdJIDIiIDogdGlsZV9sYXllcl8wZmU2Mzg1OTYwZTQ0MzQwYTIwMTc2ZmM2MjgzODQ5ZSwgfQogICAgICAgICAgICAgICAgfTsKICAgICAgICAgICAgTC5jb250cm9sLmxheWVycygKICAgICAgICAgICAgICAgIGxheWVyX2NvbnRyb2xfZDNlZDkwNjYzNzE4NGE1MWJjZTYxYzZhY2ZmYzlmNWMuYmFzZV9sYXllcnMsCiAgICAgICAgICAgICAgICBsYXllcl9jb250cm9sX2QzZWQ5MDY2MzcxODRhNTFiY2U2MWM2YWNmZmM5ZjVjLm92ZXJsYXlzLAogICAgICAgICAgICAgICAge3Bvc2l0aW9uOiAndG9wcmlnaHQnLAogICAgICAgICAgICAgICAgIGNvbGxhcHNlZDogdHJ1ZSwKICAgICAgICAgICAgICAgICBhdXRvWkluZGV4OiB0cnVlCiAgICAgICAgICAgICAgICB9KS5hZGRUbyhtYXBfY2UzZWYxYjhlYWEwNGRiZDgyN2EzYzMwOTUzMjI0YzMpOwogICAgICAgICAgICAKICAgICAgICAgICAgICAgIHRpbGVfbGF5ZXJfZmY5N2U0NThmMTExNGE4ODlkMjIzYzAyMGY1N2ZiNTIucmVtb3ZlKCk7CiAgICAgICAgICAgICAgICB0aWxlX2xheWVyX2Q2ZDY0NTlmMzQ3ZjQ1OTU5MDI4MzkxZTg2YTYyOGI0LnJlbW92ZSgpOwogICAgICAgICAgICAgICAgdGlsZV9sYXllcl8wZGZjY2ZmYzk3M2U0ZDE5OGFkOWE3YTZkN2Q4M2YwYi5yZW1vdmUoKTsKICAgICAgICAgICAgICAgIHRpbGVfbGF5ZXJfMDQ4ZDFmYTliYWE1NDMwYWI2MmZlY2M4YWY0ZTg2ZWIucmVtb3ZlKCk7CiAgICAgICAgICAgICAgICB0aWxlX2xheWVyXzBmZTYzODU5NjBlNDQzNDBhMjAxNzZmYzYyODM4NDllLnJlbW92ZSgpOwogICAgICAgIAogICAgCiAgICAgICAgICAgICAgICB2YXIgbGF0X2xuZ19wb3B1cF9jODcxMDlmYWVjZTU0OWVhYTk2OGRhZmQ0OTBiZjYxOCA9IEwucG9wdXAoKTsKICAgICAgICAgICAgICAgIGZ1bmN0aW9uIGxhdExuZ1BvcChlKSB7CiAgICAgICAgICAgICAgICAgICAgbGF0X2xuZ19wb3B1cF9jODcxMDlmYWVjZTU0OWVhYTk2OGRhZmQ0OTBiZjYxOAogICAgICAgICAgICAgICAgICAgICAgICAuc2V0TGF0TG5nKGUubGF0bG5nKQogICAgICAgICAgICAgICAgICAgICAgICAuc2V0Q29udGVudCgiTGF0aXR1ZGU6ICIgKyBlLmxhdGxuZy5sYXQudG9GaXhlZCg0KSArCiAgICAgICAgICAgICAgICAgICAgICAgICAgICAgICAgICAgICI8YnI+TG9uZ2l0dWRlOiAiICsgZS5sYXRsbmcubG5nLnRvRml4ZWQoNCkpCiAgICAgICAgICAgICAgICAgICAgICAgIC5vcGVuT24obWFwX2NlM2VmMWI4ZWFhMDRkYmQ4MjdhM2MzMDk1MzIyNGMzKTsKICAgICAgICAgICAgICAgICAgICB9CiAgICAgICAgICAgICAgICBtYXBfY2UzZWYxYjhlYWEwNGRiZDgyN2EzYzMwOTUzMjI0YzMub24oJ2NsaWNrJywgbGF0TG5nUG9wKTsKICAgICAgICAgICAgCjwvc2NyaXB0Pg== onload=\"this.contentDocument.open();this.contentDocument.write(atob(this.getAttribute('data-html')));this.contentDocument.close();\" allowfullscreen webkitallowfullscreen mozallowfullscreen></iframe></div></div>"
            ],
            "text/plain": [
              "<folium.folium.Map at 0x7fd1b9f85390>"
            ]
          },
          "metadata": {
            "tags": []
          },
          "execution_count": 59
        }
      ]
    },
    {
      "cell_type": "markdown",
      "metadata": {
        "id": "7soSuwx5oBtA",
        "colab_type": "text"
      },
      "source": [
        "#### Mostrando el mapa generado"
      ]
    },
    {
      "cell_type": "code",
      "metadata": {
        "id": "_L7z0NsNoC1f",
        "colab_type": "code",
        "outputId": "8694f06c-b3fb-454f-89ce-3af7a9a71966",
        "colab": {
          "base_uri": "https://localhost:8080/",
          "height": 624
        }
      },
      "source": [
        "map"
      ],
      "execution_count": 60,
      "outputs": [
        {
          "output_type": "execute_result",
          "data": {
            "text/html": [
              "<div style=\"width:100%;\"><div style=\"position:relative;width:100%;height:0;padding-bottom:60%;\"><iframe src=\"about:blank\" style=\"position:absolute;width:100%;height:100%;left:0;top:0;border:none !important;\" data-html=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 onload=\"this.contentDocument.open();this.contentDocument.write(atob(this.getAttribute('data-html')));this.contentDocument.close();\" allowfullscreen webkitallowfullscreen mozallowfullscreen></iframe></div></div>"
            ],
            "text/plain": [
              "<folium.folium.Map at 0x7fd1b9f85390>"
            ]
          },
          "metadata": {
            "tags": []
          },
          "execution_count": 60
        }
      ]
    }
  ]
}