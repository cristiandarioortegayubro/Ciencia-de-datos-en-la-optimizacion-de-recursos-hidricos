{
  "nbformat": 4,
  "nbformat_minor": 0,
  "metadata": {
    "colab": {
      "name": "Ciencia de datos en la optimizacion de recursos hidricos.ipynb",
      "provenance": [],
      "collapsed_sections": [],
      "include_colab_link": true
    },
    "kernelspec": {
      "name": "python3",
      "display_name": "Python 3"
    },
    "accelerator": "TPU"
  },
  "cells": [
    {
      "cell_type": "markdown",
      "metadata": {
        "id": "view-in-github",
        "colab_type": "text"
      },
      "source": [
        "<a href=\"https://colab.research.google.com/github/cristiandarioortegayubro/Ciencia-de-datos-en-la-optimizacion-de-recursos-hidricos/blob/master/Ciencia_de_datos_en_la_optimizacion_de_recursos_hidricos.ipynb\" target=\"_parent\"><img src=\"https://colab.research.google.com/assets/colab-badge.svg\" alt=\"Open In Colab\"/></a>"
      ]
    },
    {
      "cell_type": "markdown",
      "metadata": {
        "id": "MBye5VC5Xc4u",
        "colab_type": "text"
      },
      "source": [
        "# **Ciencia de datos en la optimización de recursos hídricos**\n"
      ]
    },
    {
      "cell_type": "markdown",
      "metadata": {
        "id": "pmOSvgUBcgi8",
        "colab_type": "text"
      },
      "source": [
        "## **USGS Landsat 8 Surface Reflectance Tier 1**\n",
        "\n",
        "\n",
        "---\n",
        "\n"
      ]
    },
    {
      "cell_type": "markdown",
      "metadata": {
        "id": "OEVYV0ZGdWeS",
        "colab_type": "text"
      },
      "source": [
        "### Librerias y autenticación"
      ]
    },
    {
      "cell_type": "code",
      "metadata": {
        "id": "e_XVc1w3yVG1",
        "colab_type": "code",
        "outputId": "8f47242e-ace1-4d4b-8f5a-b1bad024fb21",
        "colab": {
          "base_uri": "https://localhost:8080/",
          "height": 173
        }
      },
      "source": [
        "import ee\n",
        "ee.Authenticate()\n",
        "ee.Initialize()"
      ],
      "execution_count": 5,
      "outputs": [
        {
          "output_type": "stream",
          "text": [
            "To authorize access needed by Earth Engine, open the following URL in a web browser and follow the instructions. If the web browser does not start automatically, please manually browse the URL below.\n",
            "\n",
            "    https://accounts.google.com/o/oauth2/auth?client_id=517222506229-vsmmajv00ul0bs7p89v5m89qs8eb9359.apps.googleusercontent.com&scope=https%3A%2F%2Fwww.googleapis.com%2Fauth%2Fearthengine+https%3A%2F%2Fwww.googleapis.com%2Fauth%2Fdevstorage.full_control&redirect_uri=urn%3Aietf%3Awg%3Aoauth%3A2.0%3Aoob&response_type=code\n",
            "\n",
            "The authorization workflow will generate a code, which you should paste in the box below. \n",
            "Enter verification code: 4/xgEjmCbqwHVL-a0bt_S-98L9G6_T4bYHM3psTEghkCQPE9t8xH4uab8\n",
            "\n",
            "Successfully saved authorization token.\n"
          ],
          "name": "stdout"
        }
      ]
    },
    {
      "cell_type": "markdown",
      "metadata": {
        "id": "OqnSamTV6SfX",
        "colab_type": "text"
      },
      "source": [
        "*Primer paso, importar Earth Engine (ee) y posteriormente autenticar usuario a traves del link, asociando a una cuenta gmail, generando codigo token el cual debe ser copiado y pegado para lograr autorizacion satisfactoria*"
      ]
    },
    {
      "cell_type": "markdown",
      "metadata": {
        "id": "E0uPtNi5-fae",
        "colab_type": "text"
      },
      "source": [
        "### Mapa interactivo de Mendoza con librería folium"
      ]
    },
    {
      "cell_type": "markdown",
      "metadata": {
        "id": "NsufL_7uljst",
        "colab_type": "text"
      },
      "source": [
        "#### Librerias para el mapa interactivo"
      ]
    },
    {
      "cell_type": "code",
      "metadata": {
        "id": "fVbHjnOhlrU1",
        "colab_type": "code",
        "colab": {}
      },
      "source": [
        "import sys\n",
        "import folium\n",
        "import pandas as pd"
      ],
      "execution_count": 0,
      "outputs": []
    },
    {
      "cell_type": "markdown",
      "metadata": {
        "id": "OPvOJrIyl0JM",
        "colab_type": "text"
      },
      "source": [
        "#### Localización del mapa y definición de bandas satelitales"
      ]
    },
    {
      "cell_type": "code",
      "metadata": {
        "id": "3tFJmCoauFVN",
        "colab_type": "code",
        "colab": {}
      },
      "source": [
        "potrerillos = [-32.9721, -69.1661]\n",
        "punto = [-69.1603, -32.9781]"
      ],
      "execution_count": 0,
      "outputs": []
    },
    {
      "cell_type": "code",
      "metadata": {
        "id": "R7BLPCIEl9-p",
        "colab_type": "code",
        "colab": {}
      },
      "source": [
        "map = folium.Map(location = potrerillos, position='Center', tiles='OpenStreetMap', zoom_start=12.5)\n",
        "bands = ['B1','B2', 'B3', 'B4', 'B5', 'B6', 'B7']"
      ],
      "execution_count": 0,
      "outputs": []
    },
    {
      "cell_type": "markdown",
      "metadata": {
        "id": "Fbf-YaRemLoo",
        "colab_type": "text"
      },
      "source": [
        "#### Conexión con Landsat 8 (Surface Reflectance)"
      ]
    },
    {
      "cell_type": "code",
      "metadata": {
        "id": "Ig1lPMJS_zfY",
        "colab_type": "code",
        "colab": {}
      },
      "source": [
        "IDcollection = 'LANDSAT/LC08/C01/T1_SR'"
      ],
      "execution_count": 0,
      "outputs": []
    },
    {
      "cell_type": "code",
      "metadata": {
        "id": "SFtfzgo7ACVC",
        "colab_type": "code",
        "colab": {}
      },
      "source": [
        "l8sr = ee.ImageCollection(IDcollection)\n",
        "ICFilter = l8sr.filterDate('2018-01-01', '2019-12-28')\n",
        "GP = ee.Geometry.Point(punto)\n",
        "ICFilter = ICFilter.filterBounds(GP)"
      ],
      "execution_count": 0,
      "outputs": []
    },
    {
      "cell_type": "markdown",
      "metadata": {
        "id": "PjOPF1KYmfzU",
        "colab_type": "text"
      },
      "source": [
        "#### Aplicando función de mascara de nubes"
      ]
    },
    {
      "cell_type": "code",
      "metadata": {
        "id": "3POSdv-pmkgZ",
        "colab_type": "code",
        "colab": {}
      },
      "source": [
        "def maskL8sr(image):\n",
        "  cloudShadowBitMask = ee.Number(2).pow(3).int()\n",
        "  cloudsBitMask = ee.Number(2).pow(5).int()\n",
        "  qa = image.select('pixel_qa')\n",
        "  mask = qa.bitwiseAnd(cloudShadowBitMask).eq(0).And(\n",
        "    qa.bitwiseAnd(cloudsBitMask).eq(0))\n",
        "  return image.updateMask(mask).select(bands).divide(10000)"
      ],
      "execution_count": 0,
      "outputs": []
    },
    {
      "cell_type": "markdown",
      "metadata": {
        "id": "pahnlCiYmwlE",
        "colab_type": "text"
      },
      "source": [
        "#### Definiendo el conjunto de imágenes años 2018 y 2019\n",
        "\n"
      ]
    },
    {
      "cell_type": "code",
      "metadata": {
        "id": "YIOQalZymyOp",
        "colab_type": "code",
        "colab": {}
      },
      "source": [
        "image = l8sr.map(maskL8sr).median()"
      ],
      "execution_count": 0,
      "outputs": []
    },
    {
      "cell_type": "markdown",
      "metadata": {
        "id": "jteaVSyXnBgh",
        "colab_type": "text"
      },
      "source": [
        "#### Definiendo los filtros de las capas para el mapa"
      ]
    },
    {
      "cell_type": "code",
      "metadata": {
        "id": "O9yv22CUnCBY",
        "colab_type": "code",
        "colab": {
          "base_uri": "https://localhost:8080/",
          "height": 34
        },
        "outputId": "e93d8040-da4a-4799-fd50-692d60018cc2"
      },
      "source": [
        "mapid = image.getMapId({'bands': ['B7', 'B6','B5'], 'min': 0, 'max': 0.5})\n",
        "folium.TileLayer(\n",
        "    tiles=mapid['tile_fetcher'].url_format,\n",
        "    attr='Map Data &copy; <a href=\"https://earthengine.google.com/\">Google Earth Engine</a>',\n",
        "    overlay=True,\n",
        "    show=False,\n",
        "    name='Infrarrojo onda corta',\n",
        "  ).add_to(map),\n",
        "mapid = image.getMapId({'bands': ['B5'], 'min': 0, 'max': 0.5})\n",
        "folium.TileLayer(\n",
        "    tiles=mapid['tile_fetcher'].url_format,\n",
        "    attr='Map Data &copy; <a href=\"https://earthengine.google.com/\">Google Earth Engine</a>',\n",
        "    overlay=True,\n",
        "    show=False,\n",
        "    name='Infrarrojo gris',\n",
        "  ).add_to(map),\n",
        "mapid = image.getMapId({'bands': ['B4', 'B3', 'B2'], 'min': 0, 'max': 0.5})\n",
        "folium.TileLayer(\n",
        "    tiles=mapid['tile_fetcher'].url_format,\n",
        "    attr='Map Data &copy; <a href=\"https://earthengine.google.com/\">Google Earth Engine</a>',\n",
        "    overlay=True,\n",
        "    show=False,\n",
        "    name='Infrarrojo RGB',\n",
        "  ).add_to(map),\n",
        "mapid = image.getMapId({'bands': ['B1'], 'min': 0, 'max': 0.5})\n",
        "folium.TileLayer(\n",
        "    tiles=mapid['tile_fetcher'].url_format,\n",
        "    attr='Map Data &copy; <a href=\"https://earthengine.google.com/\">Google Earth Engine</a>',\n",
        "    overlay=True,\n",
        "    show=False,\n",
        "    name='Infrarrojo negro',\n",
        "  ).add_to(map)"
      ],
      "execution_count": 115,
      "outputs": [
        {
          "output_type": "execute_result",
          "data": {
            "text/plain": [
              "<folium.raster_layers.TileLayer at 0x7f85affb14e0>"
            ]
          },
          "metadata": {
            "tags": []
          },
          "execution_count": 115
        }
      ]
    },
    {
      "cell_type": "markdown",
      "metadata": {
        "id": "B1nB5R8SnYgL",
        "colab_type": "text"
      },
      "source": [
        "#### Habilitando el control de capas"
      ]
    },
    {
      "cell_type": "code",
      "metadata": {
        "id": "HXcbFtTrnZlK",
        "colab_type": "code",
        "colab": {
          "base_uri": "https://localhost:8080/",
          "height": 712
        },
        "outputId": "a4ef4278-137c-4b9a-bcf5-c495150c396e"
      },
      "source": [
        "map.add_child(folium.LayerControl())"
      ],
      "execution_count": 116,
      "outputs": [
        {
          "output_type": "execute_result",
          "data": {
            "text/html": [
              "<div style=\"width:100%;\"><div style=\"position:relative;width:100%;height:0;padding-bottom:60%;\"><iframe src=\"data:text/html;charset=utf-8;base64,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\" style=\"position:absolute;width:100%;height:100%;left:0;top:0;border:none !important;\" allowfullscreen webkitallowfullscreen mozallowfullscreen></iframe></div></div>"
            ],
            "text/plain": [
              "<folium.folium.Map at 0x7f85aff9d358>"
            ]
          },
          "metadata": {
            "tags": []
          },
          "execution_count": 116
        }
      ]
    },
    {
      "cell_type": "markdown",
      "metadata": {
        "id": "Oig8W0JQnpgH",
        "colab_type": "text"
      },
      "source": [
        "#### Creando diferentes herramientas"
      ]
    },
    {
      "cell_type": "code",
      "metadata": {
        "id": "UZIQ-gnLnqc7",
        "colab_type": "code",
        "colab": {}
      },
      "source": [
        "tooltip1 = 'Clic punto de medición'"
      ],
      "execution_count": 0,
      "outputs": []
    },
    {
      "cell_type": "markdown",
      "metadata": {
        "id": "_-zeplMEn2y0",
        "colab_type": "text"
      },
      "source": [
        "#### Habilitando popus para ver latitud y longitud"
      ]
    },
    {
      "cell_type": "code",
      "metadata": {
        "id": "oIOKsl66n3SE",
        "colab_type": "code",
        "colab": {
          "base_uri": "https://localhost:8080/",
          "height": 712
        },
        "outputId": "ee078f6c-f6e9-4dc1-bd85-226193064580"
      },
      "source": [
        "map.add_child(folium.LatLngPopup())"
      ],
      "execution_count": 118,
      "outputs": [
        {
          "output_type": "execute_result",
          "data": {
            "text/html": [
              "<div style=\"width:100%;\"><div style=\"position:relative;width:100%;height:0;padding-bottom:60%;\"><iframe src=\"data:text/html;charset=utf-8;base64,PCFET0NUWVBFIGh0bWw+CjxoZWFkPiAgICAKICAgIDxtZXRhIGh0dHAtZXF1aXY9ImNvbnRlbnQtdHlwZSIgY29udGVudD0idGV4dC9odG1sOyBjaGFyc2V0PVVURi04IiAvPgogICAgPHNjcmlwdD5MX1BSRUZFUl9DQU5WQVM9ZmFsc2U7IExfTk9fVE9VQ0g9ZmFsc2U7IExfRElTQUJMRV8zRD1mYWxzZTs8L3NjcmlwdD4KICAgIDxzY3JpcHQgc3JjPSJodHRwczovL2Nkbi5qc2RlbGl2ci5uZXQvbnBtL2xlYWZsZXRAMS40LjAvZGlzdC9sZWFmbGV0LmpzIj48L3NjcmlwdD4KICAgIDxzY3JpcHQgc3JjPSJodHRwczovL2NvZGUuanF1ZXJ5LmNvbS9qcXVlcnktMS4xMi40Lm1pbi5qcyI+PC9zY3JpcHQ+CiAgICA8c2NyaXB0IHNyYz0iaHR0cHM6Ly9tYXhjZG4uYm9vdHN0cmFwY2RuLmNvbS9ib290c3RyYXAvMy4yLjAvanMvYm9vdHN0cmFwLm1pbi5qcyI+PC9zY3JpcHQ+CiAgICA8c2NyaXB0IHNyYz0iaHR0cHM6Ly9jZG5qcy5jbG91ZGZsYXJlLmNvbS9hamF4L2xpYnMvTGVhZmxldC5hd2Vzb21lLW1hcmtlcnMvMi4wLjIvbGVhZmxldC5hd2Vzb21lLW1hcmtlcnMuanMiPjwvc2NyaXB0PgogICAgPGxpbmsgcmVsPSJzdHlsZXNoZWV0IiBocmVmPSJodHRwczovL2Nkbi5qc2RlbGl2ci5uZXQvbnBtL2xlYWZsZXRAMS40LjAvZGlzdC9sZWFmbGV0LmNzcyIvPgogICAgPGxpbmsgcmVsPSJzdHlsZXNoZWV0IiBocmVmPSJodHRwczovL21heGNkbi5ib290c3RyYXBjZG4uY29tL2Jvb3RzdHJhcC8zLjIuMC9jc3MvYm9vdHN0cmFwLm1pbi5jc3MiLz4KICAgIDxsaW5rIHJlbD0ic3R5bGVzaGVldCIgaHJlZj0iaHR0cHM6Ly9tYXhjZG4uYm9vdHN0cmFwY2RuLmNvbS9ib290c3RyYXAvMy4yLjAvY3NzL2Jvb3RzdHJhcC10aGVtZS5taW4uY3NzIi8+CiAgICA8bGluayByZWw9InN0eWxlc2hlZXQiIGhyZWY9Imh0dHBzOi8vbWF4Y2RuLmJvb3RzdHJhcGNkbi5jb20vZm9udC1hd2Vzb21lLzQuNi4zL2Nzcy9mb250LWF3ZXNvbWUubWluLmNzcyIvPgogICAgPGxpbmsgcmVsPSJzdHlsZXNoZWV0IiBocmVmPSJodHRwczovL2NkbmpzLmNsb3VkZmxhcmUuY29tL2FqYXgvbGlicy9MZWFmbGV0LmF3ZXNvbWUtbWFya2Vycy8yLjAuMi9sZWFmbGV0LmF3ZXNvbWUtbWFya2Vycy5jc3MiLz4KICAgIDxsaW5rIHJlbD0ic3R5bGVzaGVldCIgaHJlZj0iaHR0cHM6Ly9yYXdjZG4uZ2l0aGFjay5jb20vcHl0aG9uLXZpc3VhbGl6YXRpb24vZm9saXVtL21hc3Rlci9mb2xpdW0vdGVtcGxhdGVzL2xlYWZsZXQuYXdlc29tZS5yb3RhdGUuY3NzIi8+CiAgICA8c3R5bGU+aHRtbCwgYm9keSB7d2lkdGg6IDEwMCU7aGVpZ2h0OiAxMDAlO21hcmdpbjogMDtwYWRkaW5nOiAwO308L3N0eWxlPgogICAgPHN0eWxlPiNtYXAge3Bvc2l0aW9uOmFic29sdXRlO3RvcDowO2JvdHRvbTowO3JpZ2h0OjA7bGVmdDowO308L3N0eWxlPgogICAgCiAgICA8bWV0YSBuYW1lPSJ2aWV3cG9ydCIgY29udGVudD0id2lkdGg9ZGV2aWNlLXdpZHRoLAogICAgICAgIGluaXRpYWwtc2NhbGU9MS4wLCBtYXhpbXVtLXNjYWxlPTEuMCwgdXNlci1zY2FsYWJsZT1ubyIgLz4KICAgIDxzdHlsZT4jbWFwXzhjOTg0ZGNjYWViYTQ3Y2FhYmVjNWQyNzNjZjc2ZDJhIHsKICAgICAgICBwb3NpdGlvbjogQ2VudGVyOwogICAgICAgIHdpZHRoOiAxMDAuMCU7CiAgICAgICAgaGVpZ2h0OiAxMDAuMCU7CiAgICAgICAgbGVmdDogMC4wJTsKICAgICAgICB0b3A6IDAuMCU7CiAgICAgICAgfQogICAgPC9zdHlsZT4KPC9oZWFkPgo8Ym9keT4gICAgCiAgICAKICAgIDxkaXYgY2xhc3M9ImZvbGl1bS1tYXAiIGlkPSJtYXBfOGM5ODRkY2NhZWJhNDdjYWFiZWM1ZDI3M2NmNzZkMmEiID48L2Rpdj4KPC9ib2R5Pgo8c2NyaXB0PiAgICAKICAgIAogICAgCiAgICAgICAgdmFyIGJvdW5kcyA9IG51bGw7CiAgICAKCiAgICB2YXIgbWFwXzhjOTg0ZGNjYWViYTQ3Y2FhYmVjNWQyNzNjZjc2ZDJhID0gTC5tYXAoCiAgICAgICAgJ21hcF84Yzk4NGRjY2FlYmE0N2NhYWJlYzVkMjczY2Y3NmQyYScsIHsKICAgICAgICBjZW50ZXI6IFstMzIuOTcyMSwgLTY5LjE2NjFdLAogICAgICAgIHpvb206IDEyLjUsCiAgICAgICAgbWF4Qm91bmRzOiBib3VuZHMsCiAgICAgICAgbGF5ZXJzOiBbXSwKICAgICAgICB3b3JsZENvcHlKdW1wOiBmYWxzZSwKICAgICAgICBjcnM6IEwuQ1JTLkVQU0czODU3LAogICAgICAgIHpvb21Db250cm9sOiB0cnVlLAogICAgICAgIH0pOwoKCiAgICAKICAgIHZhciB0aWxlX2xheWVyXzI5MzdkNWZmYTdmMDRjZDQ5NzJlNmViZGU0OTZmYzYwID0gTC50aWxlTGF5ZXIoCiAgICAgICAgJ2h0dHBzOi8ve3N9LnRpbGUub3BlbnN0cmVldG1hcC5vcmcve3p9L3t4fS97eX0ucG5nJywKICAgICAgICB7CiAgICAgICAgImF0dHJpYnV0aW9uIjogbnVsbCwKICAgICAgICAiZGV0ZWN0UmV0aW5hIjogZmFsc2UsCiAgICAgICAgIm1heE5hdGl2ZVpvb20iOiAxOCwKICAgICAgICAibWF4Wm9vbSI6IDE4LAogICAgICAgICJtaW5ab29tIjogMCwKICAgICAgICAibm9XcmFwIjogZmFsc2UsCiAgICAgICAgIm9wYWNpdHkiOiAxLAogICAgICAgICJzdWJkb21haW5zIjogImFiYyIsCiAgICAgICAgInRtcyI6IGZhbHNlCn0pLmFkZFRvKG1hcF84Yzk4NGRjY2FlYmE0N2NhYWJlYzVkMjczY2Y3NmQyYSk7CiAgICB2YXIgdGlsZV9sYXllcl81YTllZDIyM2UxMGM0NjA2YjljNTAwM2YyNGEzNTA3NCA9IEwudGlsZUxheWVyKAogICAgICAgICdodHRwczovL2VhcnRoZW5naW5lLmdvb2dsZWFwaXMuY29tL3YxYWxwaGEvcHJvamVjdHMvZWFydGhlbmdpbmUtbGVnYWN5L21hcHMvYjBmNmE4Yjg2NGQ2YmI3NTZmZDhiYjhkMGI3MDUxNWYtMmI2NmI5MDk3YWM0ZjhmM2UyMWE2NmY3ZjIzNTk3Y2MvdGlsZXMve3p9L3t4fS97eX0nLAogICAgICAgIHsKICAgICAgICAiYXR0cmlidXRpb24iOiAiTWFwIERhdGEgJmNvcHk7IDxhIGhyZWY9XCJodHRwczovL2VhcnRoZW5naW5lLmdvb2dsZS5jb20vXCI+R29vZ2xlIEVhcnRoIEVuZ2luZTwvYT4iLAogICAgICAgICJkZXRlY3RSZXRpbmEiOiBmYWxzZSwKICAgICAgICAibWF4TmF0aXZlWm9vbSI6IDE4LAogICAgICAgICJtYXhab29tIjogMTgsCiAgICAgICAgIm1pblpvb20iOiAwLAogICAgICAgICJub1dyYXAiOiBmYWxzZSwKICAgICAgICAib3BhY2l0eSI6IDEsCiAgICAgICAgInN1YmRvbWFpbnMiOiAiYWJjIiwKICAgICAgICAidG1zIjogZmFsc2UKfSkuYWRkVG8obWFwXzhjOTg0ZGNjYWViYTQ3Y2FhYmVjNWQyNzNjZjc2ZDJhKTsKICAgIHZhciB0aWxlX2xheWVyXzJiYjVlYzI0ZjU0NTRjYWJiNjIyNGEyMWJmMzM2ZWRjID0gTC50aWxlTGF5ZXIoCiAgICAgICAgJ2h0dHBzOi8vZWFydGhlbmdpbmUuZ29vZ2xlYXBpcy5jb20vdjFhbHBoYS9wcm9qZWN0cy9lYXJ0aGVuZ2luZS1sZWdhY3kvbWFwcy83MWQzMTA0ZGNmNjU5Njc1MjMzMmM5OTkyMzE2Njg2My04YWI2YzBhN2ZkMGEzNWNiN2ZjMzYxYTFlOGFiZTNlZS90aWxlcy97en0ve3h9L3t5fScsCiAgICAgICAgewogICAgICAgICJhdHRyaWJ1dGlvbiI6ICJNYXAgRGF0YSAmY29weTsgPGEgaHJlZj1cImh0dHBzOi8vZWFydGhlbmdpbmUuZ29vZ2xlLmNvbS9cIj5Hb29nbGUgRWFydGggRW5naW5lPC9hPiIsCiAgICAgICAgImRldGVjdFJldGluYSI6IGZhbHNlLAogICAgICAgICJtYXhOYXRpdmVab29tIjogMTgsCiAgICAgICAgIm1heFpvb20iOiAxOCwKICAgICAgICAibWluWm9vbSI6IDAsCiAgICAgICAgIm5vV3JhcCI6IGZhbHNlLAogICAgICAgICJvcGFjaXR5IjogMSwKICAgICAgICAic3ViZG9tYWlucyI6ICJhYmMiLAogICAgICAgICJ0bXMiOiBmYWxzZQp9KS5hZGRUbyhtYXBfOGM5ODRkY2NhZWJhNDdjYWFiZWM1ZDI3M2NmNzZkMmEpOwogICAgdmFyIHRpbGVfbGF5ZXJfZWNlYjBhNTJhYWE3NGQ4MDkzMjg1MWM5NDY1ZjM4OWUgPSBMLnRpbGVMYXllcigKICAgICAgICAnaHR0cHM6Ly9lYXJ0aGVuZ2luZS5nb29nbGVhcGlzLmNvbS92MWFscGhhL3Byb2plY3RzL2VhcnRoZW5naW5lLWxlZ2FjeS9tYXBzL2RhMzk5MmVmZDU2ZjMzYTk0MjQxZmVjZTFmNTEyZjE3LWNmMDVlNjJjZGRlNjEyNTZhZTFhMzg3MjFjNjYxMzU3L3RpbGVzL3t6fS97eH0ve3l9JywKICAgICAgICB7CiAgICAgICAgImF0dHJpYnV0aW9uIjogIk1hcCBEYXRhICZjb3B5OyA8YSBocmVmPVwiaHR0cHM6Ly9lYXJ0aGVuZ2luZS5nb29nbGUuY29tL1wiPkdvb2dsZSBFYXJ0aCBFbmdpbmU8L2E+IiwKICAgICAgICAiZGV0ZWN0UmV0aW5hIjogZmFsc2UsCiAgICAgICAgIm1heE5hdGl2ZVpvb20iOiAxOCwKICAgICAgICAibWF4Wm9vbSI6IDE4LAogICAgICAgICJtaW5ab29tIjogMCwKICAgICAgICAibm9XcmFwIjogZmFsc2UsCiAgICAgICAgIm9wYWNpdHkiOiAxLAogICAgICAgICJzdWJkb21haW5zIjogImFiYyIsCiAgICAgICAgInRtcyI6IGZhbHNlCn0pLmFkZFRvKG1hcF84Yzk4NGRjY2FlYmE0N2NhYWJlYzVkMjczY2Y3NmQyYSk7CiAgICB2YXIgdGlsZV9sYXllcl9hMzZkZjA2N2VmNmY0M2E3YTM3ZTU2OGEzNDA1Y2E1YSA9IEwudGlsZUxheWVyKAogICAgICAgICdodHRwczovL2VhcnRoZW5naW5lLmdvb2dsZWFwaXMuY29tL3YxYWxwaGEvcHJvamVjdHMvZWFydGhlbmdpbmUtbGVnYWN5L21hcHMvYmQ4YTk3Y2RhYTg2YWVmMDA3NTFhYzc5N2E0YzZjZTAtODFmYjI1ODlhMDFiOGEyZDFhOTFjMDZjMDUzOGU3NTUvdGlsZXMve3p9L3t4fS97eX0nLAogICAgICAgIHsKICAgICAgICAiYXR0cmlidXRpb24iOiAiTWFwIERhdGEgJmNvcHk7IDxhIGhyZWY9XCJodHRwczovL2VhcnRoZW5naW5lLmdvb2dsZS5jb20vXCI+R29vZ2xlIEVhcnRoIEVuZ2luZTwvYT4iLAogICAgICAgICJkZXRlY3RSZXRpbmEiOiBmYWxzZSwKICAgICAgICAibWF4TmF0aXZlWm9vbSI6IDE4LAogICAgICAgICJtYXhab29tIjogMTgsCiAgICAgICAgIm1pblpvb20iOiAwLAogICAgICAgICJub1dyYXAiOiBmYWxzZSwKICAgICAgICAib3BhY2l0eSI6IDEsCiAgICAgICAgInN1YmRvbWFpbnMiOiAiYWJjIiwKICAgICAgICAidG1zIjogZmFsc2UKfSkuYWRkVG8obWFwXzhjOTg0ZGNjYWViYTQ3Y2FhYmVjNWQyNzNjZjc2ZDJhKTsKICAgIAogICAgICAgICAgICB2YXIgbGF5ZXJfY29udHJvbF9lZWQ0MWFjNzE1ZmE0MjAzYmFjZjZkZTQ4MWM1OWIxOCA9IHsKICAgICAgICAgICAgICAgIGJhc2VfbGF5ZXJzIDogeyAib3BlbnN0cmVldG1hcCIgOiB0aWxlX2xheWVyXzI5MzdkNWZmYTdmMDRjZDQ5NzJlNmViZGU0OTZmYzYwLCB9LAogICAgICAgICAgICAgICAgb3ZlcmxheXMgOiB7ICJJbmZyYXJyb2pvIG9uZGEgY29ydGEiIDogdGlsZV9sYXllcl81YTllZDIyM2UxMGM0NjA2YjljNTAwM2YyNGEzNTA3NCwiSW5mcmFycm9qbyBncmlzIiA6IHRpbGVfbGF5ZXJfMmJiNWVjMjRmNTQ1NGNhYmI2MjI0YTIxYmYzMzZlZGMsIkluZnJhcnJvam8gUkdCIiA6IHRpbGVfbGF5ZXJfZWNlYjBhNTJhYWE3NGQ4MDkzMjg1MWM5NDY1ZjM4OWUsIkluZnJhcnJvam8gbmVncm8iIDogdGlsZV9sYXllcl9hMzZkZjA2N2VmNmY0M2E3YTM3ZTU2OGEzNDA1Y2E1YSwgfQogICAgICAgICAgICAgICAgfTsKICAgICAgICAgICAgTC5jb250cm9sLmxheWVycygKICAgICAgICAgICAgICAgIGxheWVyX2NvbnRyb2xfZWVkNDFhYzcxNWZhNDIwM2JhY2Y2ZGU0ODFjNTliMTguYmFzZV9sYXllcnMsCiAgICAgICAgICAgICAgICBsYXllcl9jb250cm9sX2VlZDQxYWM3MTVmYTQyMDNiYWNmNmRlNDgxYzU5YjE4Lm92ZXJsYXlzLAogICAgICAgICAgICAgICAge3Bvc2l0aW9uOiAndG9wcmlnaHQnLAogICAgICAgICAgICAgICAgIGNvbGxhcHNlZDogdHJ1ZSwKICAgICAgICAgICAgICAgICBhdXRvWkluZGV4OiB0cnVlCiAgICAgICAgICAgICAgICB9KS5hZGRUbyhtYXBfOGM5ODRkY2NhZWJhNDdjYWFiZWM1ZDI3M2NmNzZkMmEpOwogICAgICAgICAgICAKICAgICAgICAgICAgICAgIHRpbGVfbGF5ZXJfNWE5ZWQyMjNlMTBjNDYwNmI5YzUwMDNmMjRhMzUwNzQucmVtb3ZlKCk7CiAgICAgICAgICAgICAgICB0aWxlX2xheWVyXzJiYjVlYzI0ZjU0NTRjYWJiNjIyNGEyMWJmMzM2ZWRjLnJlbW92ZSgpOwogICAgICAgICAgICAgICAgdGlsZV9sYXllcl9lY2ViMGE1MmFhYTc0ZDgwOTMyODUxYzk0NjVmMzg5ZS5yZW1vdmUoKTsKICAgICAgICAgICAgICAgIHRpbGVfbGF5ZXJfYTM2ZGYwNjdlZjZmNDNhN2EzN2U1NjhhMzQwNWNhNWEucmVtb3ZlKCk7CiAgICAgICAgCiAgICAKICAgICAgICAgICAgICAgIHZhciBsYXRfbG5nX3BvcHVwXzZkOTBjZTY1NjhkZTQ3ZmNiZmZjZTMwZDQxMWNjZDAzID0gTC5wb3B1cCgpOwogICAgICAgICAgICAgICAgZnVuY3Rpb24gbGF0TG5nUG9wKGUpIHsKICAgICAgICAgICAgICAgICAgICBsYXRfbG5nX3BvcHVwXzZkOTBjZTY1NjhkZTQ3ZmNiZmZjZTMwZDQxMWNjZDAzCiAgICAgICAgICAgICAgICAgICAgICAgIC5zZXRMYXRMbmcoZS5sYXRsbmcpCiAgICAgICAgICAgICAgICAgICAgICAgIC5zZXRDb250ZW50KCJMYXRpdHVkZTogIiArIGUubGF0bG5nLmxhdC50b0ZpeGVkKDQpICsKICAgICAgICAgICAgICAgICAgICAgICAgICAgICAgICAgICAgIjxicj5Mb25naXR1ZGU6ICIgKyBlLmxhdGxuZy5sbmcudG9GaXhlZCg0KSkKICAgICAgICAgICAgICAgICAgICAgICAgLm9wZW5PbihtYXBfOGM5ODRkY2NhZWJhNDdjYWFiZWM1ZDI3M2NmNzZkMmEpOwogICAgICAgICAgICAgICAgICAgIH0KICAgICAgICAgICAgICAgIG1hcF84Yzk4NGRjY2FlYmE0N2NhYWJlYzVkMjczY2Y3NmQyYS5vbignY2xpY2snLCBsYXRMbmdQb3ApOwogICAgICAgICAgICAKPC9zY3JpcHQ+\" style=\"position:absolute;width:100%;height:100%;left:0;top:0;border:none !important;\" allowfullscreen webkitallowfullscreen mozallowfullscreen></iframe></div></div>"
            ],
            "text/plain": [
              "<folium.folium.Map at 0x7f85aff9d358>"
            ]
          },
          "metadata": {
            "tags": []
          },
          "execution_count": 118
        }
      ]
    },
    {
      "cell_type": "markdown",
      "metadata": {
        "id": "7soSuwx5oBtA",
        "colab_type": "text"
      },
      "source": [
        "#### Mostrando el mapa generado"
      ]
    },
    {
      "cell_type": "code",
      "metadata": {
        "id": "_L7z0NsNoC1f",
        "colab_type": "code",
        "colab": {
          "base_uri": "https://localhost:8080/",
          "height": 712
        },
        "outputId": "0a33afc6-8d2f-4ba8-ca28-7cb42272cbbf"
      },
      "source": [
        "map"
      ],
      "execution_count": 119,
      "outputs": [
        {
          "output_type": "execute_result",
          "data": {
            "text/html": [
              "<div style=\"width:100%;\"><div style=\"position:relative;width:100%;height:0;padding-bottom:60%;\"><iframe src=\"data:text/html;charset=utf-8;base64,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\" style=\"position:absolute;width:100%;height:100%;left:0;top:0;border:none !important;\" allowfullscreen webkitallowfullscreen mozallowfullscreen></iframe></div></div>"
            ],
            "text/plain": [
              "<folium.folium.Map at 0x7f85aff9d358>"
            ]
          },
          "metadata": {
            "tags": []
          },
          "execution_count": 119
        }
      ]
    }
  ]
}